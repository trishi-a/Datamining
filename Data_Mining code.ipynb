{
  "cells": [
    {
      "cell_type": "markdown",
      "source": [
        "> Loading modules and libraries"
      ],
      "metadata": {
        "id": "GFqnelwojJBY"
      }
    },
    {
      "cell_type": "code",
      "execution_count": null,
      "metadata": {
        "id": "AFBNi3cNhj_n",
        "colab": {
          "base_uri": "https://localhost:8080/"
        },
        "outputId": "b3ab66ca-b280-4182-8973-598811040877"
      },
      "outputs": [
        {
          "output_type": "stream",
          "name": "stderr",
          "text": [
            "[nltk_data] Downloading package stopwords to /root/nltk_data...\n",
            "[nltk_data]   Unzipping corpora/stopwords.zip.\n",
            "[nltk_data] Downloading package punkt to /root/nltk_data...\n",
            "[nltk_data]   Unzipping tokenizers/punkt.zip.\n",
            "[nltk_data] Downloading package wordnet to /root/nltk_data...\n",
            "[nltk_data] Downloading package omw-1.4 to /root/nltk_data...\n"
          ]
        }
      ],
      "source": [
        "import pandas as pd\n",
        "import numpy as np \n",
        "import matplotlib.pyplot as plt\n",
        "import seaborn as sns\n",
        "\n",
        "import json\n",
        "from glob import glob\n",
        "\n",
        "pd.set_option('display.max_columns', 500)\n",
        "plt.style.use('ggplot')\n",
        "\n",
        "import warnings\n",
        "warnings.filterwarnings('ignore')\n",
        "\n",
        "\n",
        "# Libraries for Sentiment Analysis\n",
        "import nltk\n",
        "from nltk.corpus import stopwords\n",
        "import re, string\n",
        "from nltk.stem import WordNetLemmatizer\n",
        "from sklearn.model_selection import train_test_split\n",
        "\n",
        "nltk.download('stopwords')\n",
        "nltk.download('punkt')\n",
        "nltk.download('wordnet')\n",
        "nltk.download('omw-1.4')\n",
        "\n",
        "from sklearn.feature_extraction.text import TfidfVectorizer\n",
        "from sklearn.feature_extraction.text import CountVectorizer\n",
        "from sklearn.svm import LinearSVC\n",
        "from sklearn.metrics import classification_report\n"
      ]
    },
    {
      "cell_type": "markdown",
      "source": [
        "> Reading the data"
      ],
      "metadata": {
        "id": "wAT7uv-NVej8"
      }
    },
    {
      "cell_type": "code",
      "source": [
        "# Read the json files using pd.read_json\n",
        "review = pd.read_json('yelp_academic_dataset_review.json', lines=True)\n",
        "checkin = pd.read_json('yelp_academic_dataset_checkin.json', lines=True)\n",
        "tip = pd.read_json('yelp_academic_dataset_tip.json', lines=True)\n",
        "business = pd.read_json('yelp_academic_dataset_business.json', lines=True)"
      ],
      "metadata": {
        "id": "1yFp1e-TH_nj",
        "colab": {
          "base_uri": "https://localhost:8080/",
          "height": 381
        },
        "outputId": "b355499e-04eb-4fc3-ad67-a69ede3d482f"
      },
      "execution_count": null,
      "outputs": [
        {
          "output_type": "error",
          "ename": "ValueError",
          "evalue": "ignored",
          "traceback": [
            "\u001b[0;31m---------------------------------------------------------------------------\u001b[0m",
            "\u001b[0;31mValueError\u001b[0m                                Traceback (most recent call last)",
            "\u001b[0;32m<ipython-input-2-032405ef2e41>\u001b[0m in \u001b[0;36m<module>\u001b[0;34m\u001b[0m\n\u001b[1;32m      1\u001b[0m \u001b[0;31m# Read the json files using pd.read_json\u001b[0m\u001b[0;34m\u001b[0m\u001b[0;34m\u001b[0m\u001b[0;34m\u001b[0m\u001b[0m\n\u001b[0;32m----> 2\u001b[0;31m \u001b[0mreview\u001b[0m \u001b[0;34m=\u001b[0m \u001b[0mpd\u001b[0m\u001b[0;34m.\u001b[0m\u001b[0mread_json\u001b[0m\u001b[0;34m(\u001b[0m\u001b[0;34m'yelp_academic_dataset_review.json'\u001b[0m\u001b[0;34m,\u001b[0m \u001b[0mlines\u001b[0m\u001b[0;34m=\u001b[0m\u001b[0;32mTrue\u001b[0m\u001b[0;34m)\u001b[0m\u001b[0;34m\u001b[0m\u001b[0;34m\u001b[0m\u001b[0m\n\u001b[0m\u001b[1;32m      3\u001b[0m \u001b[0mcheckin\u001b[0m \u001b[0;34m=\u001b[0m \u001b[0mpd\u001b[0m\u001b[0;34m.\u001b[0m\u001b[0mread_json\u001b[0m\u001b[0;34m(\u001b[0m\u001b[0;34m'yelp_academic_dataset_checkin.json'\u001b[0m\u001b[0;34m,\u001b[0m \u001b[0mlines\u001b[0m\u001b[0;34m=\u001b[0m\u001b[0;32mTrue\u001b[0m\u001b[0;34m)\u001b[0m\u001b[0;34m\u001b[0m\u001b[0;34m\u001b[0m\u001b[0m\n\u001b[1;32m      4\u001b[0m \u001b[0mtip\u001b[0m \u001b[0;34m=\u001b[0m \u001b[0mpd\u001b[0m\u001b[0;34m.\u001b[0m\u001b[0mread_json\u001b[0m\u001b[0;34m(\u001b[0m\u001b[0;34m'yelp_academic_dataset_tip.json'\u001b[0m\u001b[0;34m,\u001b[0m \u001b[0mlines\u001b[0m\u001b[0;34m=\u001b[0m\u001b[0;32mTrue\u001b[0m\u001b[0;34m)\u001b[0m\u001b[0;34m\u001b[0m\u001b[0;34m\u001b[0m\u001b[0m\n\u001b[1;32m      5\u001b[0m \u001b[0mbusiness\u001b[0m \u001b[0;34m=\u001b[0m \u001b[0mpd\u001b[0m\u001b[0;34m.\u001b[0m\u001b[0mread_json\u001b[0m\u001b[0;34m(\u001b[0m\u001b[0;34m'yelp_academic_dataset_business.json'\u001b[0m\u001b[0;34m,\u001b[0m \u001b[0mlines\u001b[0m\u001b[0;34m=\u001b[0m\u001b[0;32mTrue\u001b[0m\u001b[0;34m)\u001b[0m\u001b[0;34m\u001b[0m\u001b[0;34m\u001b[0m\u001b[0m\n",
            "\u001b[0;32m/usr/local/lib/python3.8/dist-packages/pandas/util/_decorators.py\u001b[0m in \u001b[0;36mwrapper\u001b[0;34m(*args, **kwargs)\u001b[0m\n\u001b[1;32m    205\u001b[0m                 \u001b[0;32melse\u001b[0m\u001b[0;34m:\u001b[0m\u001b[0;34m\u001b[0m\u001b[0;34m\u001b[0m\u001b[0m\n\u001b[1;32m    206\u001b[0m                     \u001b[0mkwargs\u001b[0m\u001b[0;34m[\u001b[0m\u001b[0mnew_arg_name\u001b[0m\u001b[0;34m]\u001b[0m \u001b[0;34m=\u001b[0m \u001b[0mnew_arg_value\u001b[0m\u001b[0;34m\u001b[0m\u001b[0;34m\u001b[0m\u001b[0m\n\u001b[0;32m--> 207\u001b[0;31m             \u001b[0;32mreturn\u001b[0m \u001b[0mfunc\u001b[0m\u001b[0;34m(\u001b[0m\u001b[0;34m*\u001b[0m\u001b[0margs\u001b[0m\u001b[0;34m,\u001b[0m \u001b[0;34m**\u001b[0m\u001b[0mkwargs\u001b[0m\u001b[0;34m)\u001b[0m\u001b[0;34m\u001b[0m\u001b[0;34m\u001b[0m\u001b[0m\n\u001b[0m\u001b[1;32m    208\u001b[0m \u001b[0;34m\u001b[0m\u001b[0m\n\u001b[1;32m    209\u001b[0m         \u001b[0;32mreturn\u001b[0m \u001b[0mcast\u001b[0m\u001b[0;34m(\u001b[0m\u001b[0mF\u001b[0m\u001b[0;34m,\u001b[0m \u001b[0mwrapper\u001b[0m\u001b[0;34m)\u001b[0m\u001b[0;34m\u001b[0m\u001b[0;34m\u001b[0m\u001b[0m\n",
            "\u001b[0;32m/usr/local/lib/python3.8/dist-packages/pandas/util/_decorators.py\u001b[0m in \u001b[0;36mwrapper\u001b[0;34m(*args, **kwargs)\u001b[0m\n\u001b[1;32m    309\u001b[0m                     \u001b[0mstacklevel\u001b[0m\u001b[0;34m=\u001b[0m\u001b[0mstacklevel\u001b[0m\u001b[0;34m,\u001b[0m\u001b[0;34m\u001b[0m\u001b[0;34m\u001b[0m\u001b[0m\n\u001b[1;32m    310\u001b[0m                 )\n\u001b[0;32m--> 311\u001b[0;31m             \u001b[0;32mreturn\u001b[0m \u001b[0mfunc\u001b[0m\u001b[0;34m(\u001b[0m\u001b[0;34m*\u001b[0m\u001b[0margs\u001b[0m\u001b[0;34m,\u001b[0m \u001b[0;34m**\u001b[0m\u001b[0mkwargs\u001b[0m\u001b[0;34m)\u001b[0m\u001b[0;34m\u001b[0m\u001b[0;34m\u001b[0m\u001b[0m\n\u001b[0m\u001b[1;32m    312\u001b[0m \u001b[0;34m\u001b[0m\u001b[0m\n\u001b[1;32m    313\u001b[0m         \u001b[0;32mreturn\u001b[0m \u001b[0mwrapper\u001b[0m\u001b[0;34m\u001b[0m\u001b[0;34m\u001b[0m\u001b[0m\n",
            "\u001b[0;32m/usr/local/lib/python3.8/dist-packages/pandas/io/json/_json.py\u001b[0m in \u001b[0;36mread_json\u001b[0;34m(path_or_buf, orient, typ, dtype, convert_axes, convert_dates, keep_default_dates, numpy, precise_float, date_unit, encoding, encoding_errors, lines, chunksize, compression, nrows, storage_options)\u001b[0m\n\u001b[1;32m    612\u001b[0m \u001b[0;34m\u001b[0m\u001b[0m\n\u001b[1;32m    613\u001b[0m     \u001b[0;32mwith\u001b[0m \u001b[0mjson_reader\u001b[0m\u001b[0;34m:\u001b[0m\u001b[0;34m\u001b[0m\u001b[0;34m\u001b[0m\u001b[0m\n\u001b[0;32m--> 614\u001b[0;31m         \u001b[0;32mreturn\u001b[0m \u001b[0mjson_reader\u001b[0m\u001b[0;34m.\u001b[0m\u001b[0mread\u001b[0m\u001b[0;34m(\u001b[0m\u001b[0;34m)\u001b[0m\u001b[0;34m\u001b[0m\u001b[0;34m\u001b[0m\u001b[0m\n\u001b[0m\u001b[1;32m    615\u001b[0m \u001b[0;34m\u001b[0m\u001b[0m\n\u001b[1;32m    616\u001b[0m \u001b[0;34m\u001b[0m\u001b[0m\n",
            "\u001b[0;32m/usr/local/lib/python3.8/dist-packages/pandas/io/json/_json.py\u001b[0m in \u001b[0;36mread\u001b[0;34m(self)\u001b[0m\n\u001b[1;32m    744\u001b[0m                 \u001b[0mdata\u001b[0m \u001b[0;34m=\u001b[0m \u001b[0mensure_str\u001b[0m\u001b[0;34m(\u001b[0m\u001b[0mself\u001b[0m\u001b[0;34m.\u001b[0m\u001b[0mdata\u001b[0m\u001b[0;34m)\u001b[0m\u001b[0;34m\u001b[0m\u001b[0;34m\u001b[0m\u001b[0m\n\u001b[1;32m    745\u001b[0m                 \u001b[0mdata_lines\u001b[0m \u001b[0;34m=\u001b[0m \u001b[0mdata\u001b[0m\u001b[0;34m.\u001b[0m\u001b[0msplit\u001b[0m\u001b[0;34m(\u001b[0m\u001b[0;34m\"\\n\"\u001b[0m\u001b[0;34m)\u001b[0m\u001b[0;34m\u001b[0m\u001b[0;34m\u001b[0m\u001b[0m\n\u001b[0;32m--> 746\u001b[0;31m                 \u001b[0mobj\u001b[0m \u001b[0;34m=\u001b[0m \u001b[0mself\u001b[0m\u001b[0;34m.\u001b[0m\u001b[0m_get_object_parser\u001b[0m\u001b[0;34m(\u001b[0m\u001b[0mself\u001b[0m\u001b[0;34m.\u001b[0m\u001b[0m_combine_lines\u001b[0m\u001b[0;34m(\u001b[0m\u001b[0mdata_lines\u001b[0m\u001b[0;34m)\u001b[0m\u001b[0;34m)\u001b[0m\u001b[0;34m\u001b[0m\u001b[0;34m\u001b[0m\u001b[0m\n\u001b[0m\u001b[1;32m    747\u001b[0m         \u001b[0;32melse\u001b[0m\u001b[0;34m:\u001b[0m\u001b[0;34m\u001b[0m\u001b[0;34m\u001b[0m\u001b[0m\n\u001b[1;32m    748\u001b[0m             \u001b[0mobj\u001b[0m \u001b[0;34m=\u001b[0m \u001b[0mself\u001b[0m\u001b[0;34m.\u001b[0m\u001b[0m_get_object_parser\u001b[0m\u001b[0;34m(\u001b[0m\u001b[0mself\u001b[0m\u001b[0;34m.\u001b[0m\u001b[0mdata\u001b[0m\u001b[0;34m)\u001b[0m\u001b[0;34m\u001b[0m\u001b[0;34m\u001b[0m\u001b[0m\n",
            "\u001b[0;32m/usr/local/lib/python3.8/dist-packages/pandas/io/json/_json.py\u001b[0m in \u001b[0;36m_get_object_parser\u001b[0;34m(self, json)\u001b[0m\n\u001b[1;32m    768\u001b[0m         \u001b[0mobj\u001b[0m \u001b[0;34m=\u001b[0m \u001b[0;32mNone\u001b[0m\u001b[0;34m\u001b[0m\u001b[0;34m\u001b[0m\u001b[0m\n\u001b[1;32m    769\u001b[0m         \u001b[0;32mif\u001b[0m \u001b[0mtyp\u001b[0m \u001b[0;34m==\u001b[0m \u001b[0;34m\"frame\"\u001b[0m\u001b[0;34m:\u001b[0m\u001b[0;34m\u001b[0m\u001b[0;34m\u001b[0m\u001b[0m\n\u001b[0;32m--> 770\u001b[0;31m             \u001b[0mobj\u001b[0m \u001b[0;34m=\u001b[0m \u001b[0mFrameParser\u001b[0m\u001b[0;34m(\u001b[0m\u001b[0mjson\u001b[0m\u001b[0;34m,\u001b[0m \u001b[0;34m**\u001b[0m\u001b[0mkwargs\u001b[0m\u001b[0;34m)\u001b[0m\u001b[0;34m.\u001b[0m\u001b[0mparse\u001b[0m\u001b[0;34m(\u001b[0m\u001b[0;34m)\u001b[0m\u001b[0;34m\u001b[0m\u001b[0;34m\u001b[0m\u001b[0m\n\u001b[0m\u001b[1;32m    771\u001b[0m \u001b[0;34m\u001b[0m\u001b[0m\n\u001b[1;32m    772\u001b[0m         \u001b[0;32mif\u001b[0m \u001b[0mtyp\u001b[0m \u001b[0;34m==\u001b[0m \u001b[0;34m\"series\"\u001b[0m \u001b[0;32mor\u001b[0m \u001b[0mobj\u001b[0m \u001b[0;32mis\u001b[0m \u001b[0;32mNone\u001b[0m\u001b[0;34m:\u001b[0m\u001b[0;34m\u001b[0m\u001b[0;34m\u001b[0m\u001b[0m\n",
            "\u001b[0;32m/usr/local/lib/python3.8/dist-packages/pandas/io/json/_json.py\u001b[0m in \u001b[0;36mparse\u001b[0;34m(self)\u001b[0m\n\u001b[1;32m    883\u001b[0m \u001b[0;34m\u001b[0m\u001b[0m\n\u001b[1;32m    884\u001b[0m         \u001b[0;32melse\u001b[0m\u001b[0;34m:\u001b[0m\u001b[0;34m\u001b[0m\u001b[0;34m\u001b[0m\u001b[0m\n\u001b[0;32m--> 885\u001b[0;31m             \u001b[0mself\u001b[0m\u001b[0;34m.\u001b[0m\u001b[0m_parse_no_numpy\u001b[0m\u001b[0;34m(\u001b[0m\u001b[0;34m)\u001b[0m\u001b[0;34m\u001b[0m\u001b[0;34m\u001b[0m\u001b[0m\n\u001b[0m\u001b[1;32m    886\u001b[0m \u001b[0;34m\u001b[0m\u001b[0m\n\u001b[1;32m    887\u001b[0m         \u001b[0;32mif\u001b[0m \u001b[0mself\u001b[0m\u001b[0;34m.\u001b[0m\u001b[0mobj\u001b[0m \u001b[0;32mis\u001b[0m \u001b[0;32mNone\u001b[0m\u001b[0;34m:\u001b[0m\u001b[0;34m\u001b[0m\u001b[0;34m\u001b[0m\u001b[0m\n",
            "\u001b[0;32m/usr/local/lib/python3.8/dist-packages/pandas/io/json/_json.py\u001b[0m in \u001b[0;36m_parse_no_numpy\u001b[0;34m(self)\u001b[0m\n\u001b[1;32m   1138\u001b[0m         \u001b[0;32mif\u001b[0m \u001b[0morient\u001b[0m \u001b[0;34m==\u001b[0m \u001b[0;34m\"columns\"\u001b[0m\u001b[0;34m:\u001b[0m\u001b[0;34m\u001b[0m\u001b[0;34m\u001b[0m\u001b[0m\n\u001b[1;32m   1139\u001b[0m             self.obj = DataFrame(\n\u001b[0;32m-> 1140\u001b[0;31m                 \u001b[0mloads\u001b[0m\u001b[0;34m(\u001b[0m\u001b[0mjson\u001b[0m\u001b[0;34m,\u001b[0m \u001b[0mprecise_float\u001b[0m\u001b[0;34m=\u001b[0m\u001b[0mself\u001b[0m\u001b[0;34m.\u001b[0m\u001b[0mprecise_float\u001b[0m\u001b[0;34m)\u001b[0m\u001b[0;34m,\u001b[0m \u001b[0mdtype\u001b[0m\u001b[0;34m=\u001b[0m\u001b[0;32mNone\u001b[0m\u001b[0;34m\u001b[0m\u001b[0;34m\u001b[0m\u001b[0m\n\u001b[0m\u001b[1;32m   1141\u001b[0m             )\n\u001b[1;32m   1142\u001b[0m         \u001b[0;32melif\u001b[0m \u001b[0morient\u001b[0m \u001b[0;34m==\u001b[0m \u001b[0;34m\"split\"\u001b[0m\u001b[0;34m:\u001b[0m\u001b[0;34m\u001b[0m\u001b[0;34m\u001b[0m\u001b[0m\n",
            "\u001b[0;31mValueError\u001b[0m: Expected object or value"
          ]
        }
      ]
    },
    {
      "cell_type": "code",
      "source": [
        "# The review data is too large to read in normally, so we will read it in by chunks of 1000 at a time\n",
        "\n",
        "# Empty list to store each chunk\n",
        "chunks = [] \n",
        "\n",
        "# Specify dtypes \n",
        "r_dtypes = {\"stars\": np.float16, \n",
        "            \"useful\": np.int32, \n",
        "            \"funny\": np.int32,\n",
        "            \"cool\": np.int32} \n",
        "\n",
        "# Store the json chunks\n",
        "review = pd.read_json('yyelp_academic_dataset_review.json',\n",
        "                      lines=True,\n",
        "                      chunksize=1000,\n",
        "                      dtype=r_dtypes,\n",
        "                      orient='records')\n",
        "\n",
        "# For loop to append each chunk into the chunks list\n",
        "for chunk in reader:\n",
        "        reduced_chunk = chunk.drop(columns=['review_id', 'user_id'])\\\n",
        "                             .query(\"`date` >= '2017-12-01'\")\n",
        "        chunks.append(reduced_chunk)\n",
        "\n",
        "# Concatenate each chunk into a single dataframe        \n",
        "reviews = pd.concat(chunks, ignore_index=True)"
      ],
      "metadata": {
        "id": "2SBX9sV5S4Og"
      },
      "execution_count": null,
      "outputs": []
    },
    {
      "cell_type": "code",
      "source": [
        "print('Size of Business DataFrame: ',business.shape)\n",
        "print('Size of Reviews DataFrame: ',reviews.shape)"
      ],
      "metadata": {
        "id": "B17VXDEdV3yl"
      },
      "execution_count": null,
      "outputs": []
    },
    {
      "cell_type": "code",
      "source": [
        "print('Number of Unique Businesses in Review Data: ',reviews['business_id'].nunique())\n",
        "print('Number of Unique Businesses in Business Data: ',business['business_id'].nunique())"
      ],
      "metadata": {
        "id": "lNNOCTKJV4YK"
      },
      "execution_count": null,
      "outputs": []
    },
    {
      "cell_type": "markdown",
      "source": [
        "> Exploring questions"
      ],
      "metadata": {
        "id": "-mOz4SK-jRN1"
      }
    },
    {
      "cell_type": "markdown",
      "source": [
        "Business\n",
        "\n",
        "1. Can we get a count of the unique business categories?\n",
        "2. Count for the number of each star type (5 stars, 4 stars, etc.)\n",
        "3. Count for the number of businesses that are opened vs closed, grouped by stars and/or number of reviews\n",
        "4. What are the number of businesses in each state (top 15)\n",
        "\n",
        "- Review </br>\n",
        "5. Can we perform a sentiment analysis on the text of the reviews?"
      ],
      "metadata": {
        "id": "L-qo67rtjVSP"
      }
    },
    {
      "cell_type": "markdown",
      "source": [
        "> Getting Business Categories"
      ],
      "metadata": {
        "id": "z05nPFFAk-JG"
      }
    },
    {
      "cell_type": "code",
      "source": [
        "business_cats=', '.join(business['categories'].dropna())\n",
        "cats=pd.DataFrame(business_cats.split(', '),columns=['category'])\n",
        "cats_ser = cats.category.value_counts()\n",
        "cats_df = pd.DataFrame(cats_ser)\n",
        "cats_df.reset_index(inplace=True)"
      ],
      "metadata": {
        "id": "WWU_lHuTjTN4"
      },
      "execution_count": null,
      "outputs": []
    },
    {
      "cell_type": "code",
      "source": [
        "plt.figure(figsize=(12,10))\n",
        "ax = sns.barplot( y= 'index',x = 'category' , data = cats_df.iloc[0:20])\n",
        "ax.set_ylabel('Category')\n",
        "ax.set_xlabel('Number of businesses')\n",
        "ax.set_title('Number of Business under a Category Type')\n",
        "\n",
        "\n",
        "\n",
        "for p in ax.patches:\n",
        "    ax.annotate(int(p.get_width()),\n",
        "                ((p.get_x() + p.get_width()),\n",
        "                 p.get_y()),\n",
        "                 xytext=(1, -18),\n",
        "                fontsize=12,\n",
        "                color='#004d00',\n",
        "                textcoords='offset points',\n",
        "                horizontalalignment='right')   \n",
        "plt.show()"
      ],
      "metadata": {
        "id": "iprsK97-kyXb"
      },
      "execution_count": null,
      "outputs": []
    },
    {
      "cell_type": "markdown",
      "source": [
        "> Number of Stars"
      ],
      "metadata": {
        "id": "OYxch9fTlEKs"
      }
    },
    {
      "cell_type": "code",
      "source": [
        "plt.figure(figsize=(8,5))\n",
        "ax = sns.countplot( x='stars' , data = business, palette='PRGn')\n",
        "ax.set_ylabel('Count')\n",
        "ax.set_xlabel('Stars')\n",
        "ax.set_title('Number of Businesses for each Star Rating')\n",
        "\n",
        "for p in ax.patches:\n",
        "        width, height = p.get_width(), p.get_height()\n",
        "        x, y = p.get_xy() \n",
        "        ax.text(x+width-.4, \n",
        "                y+height,\n",
        "                '{:.0f}'.format(height),\n",
        "                weight='bold',\n",
        "                horizontalalignment='center') \n",
        "                \n",
        "plt.show()"
      ],
      "metadata": {
        "id": "gCBGyqzYkzVo"
      },
      "execution_count": null,
      "outputs": []
    },
    {
      "cell_type": "markdown",
      "source": [
        "![star.png](data:image/png;base64,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)"
      ],
      "metadata": {
        "id": "qRFHvD5jAp_a"
      }
    },
    {
      "cell_type": "markdown",
      "source": [
        "> Counting Open vs Closed businesses"
      ],
      "metadata": {
        "id": "uzc7-BCilPpq"
      }
    },
    {
      "cell_type": "code",
      "source": [
        "business['is_open'].value_counts()"
      ],
      "metadata": {
        "id": "fnwzepvGlSKy"
      },
      "execution_count": null,
      "outputs": []
    },
    {
      "cell_type": "code",
      "source": [
        "plt.figure(figsize=(12,8))\n",
        "ax = sns.countplot(hue='stars', x='is_open'  , data = business, palette='Paired')\n",
        "ax.set_ylabel('Count')\n",
        "ax.set_xlabel('Is Open')\n",
        "ax.set_title('Number of Open/Closed Businesses by Star Rating')\n",
        "\n",
        "\n",
        "num_open , num_closed = business['is_open'].value_counts()\n",
        "\n",
        "ax.text(-0.3, 23000,\n",
        "        '(1) Number of Businesses Open: {:.0f}'.format(num_open),\n",
        "        weight='bold',\n",
        "        color='blue',\n",
        "        size='large')\n",
        "\n",
        "ax.text(-0.3, 22000,\n",
        "        '(0) Number of Businesses Closed: {:.0f}'.format(num_closed),\n",
        "        weight='bold',\n",
        "        color='red',\n",
        "        size='large')\n",
        "\n",
        "\n",
        "\n",
        "for p in ax.patches:\n",
        "        width, height = p.get_width(), p.get_height()\n",
        "        x, y = p.get_xy() \n",
        "        ax.text(x+width-.05, \n",
        "                y+height,\n",
        "                '{:.0f}'.format(height),\n",
        "                weight='bold',\n",
        "                horizontalalignment='center',\n",
        "                size='small') \n",
        "                \n",
        "plt.show()"
      ],
      "metadata": {
        "id": "Au2bXNMllUtw"
      },
      "execution_count": null,
      "outputs": []
    },
    {
      "cell_type": "markdown",
      "source": [
        "> Businesses in each state"
      ],
      "metadata": {
        "id": "cVJy9t2Ilbz9"
      }
    },
    {
      "cell_type": "code",
      "source": [
        "top15 = business['state'].value_counts(ascending=True).tail(15).to_frame()\n",
        "\n",
        "plt.figure(figsize=(8,5))\n",
        "ax = sns.barplot(x=top15.index,y='state', data=top15, palette='RdPu')\n",
        "ax.set_ylabel('Count')\n",
        "ax.set_xlabel('States')\n",
        "ax.set_title('Number of Businesses on Yelp by State (Top 15)')\n",
        "\n",
        "for p in ax.patches:\n",
        "        width, height = p.get_width(), p.get_height()\n",
        "        x, y = p.get_xy() \n",
        "        ax.text(x+width-.4, \n",
        "                y+height+2,\n",
        "                '{:.0f}'.format(height),\n",
        "                weight='bold',\n",
        "                horizontalalignment='center',\n",
        "               size='small') \n",
        "                \n",
        "plt.show()"
      ],
      "metadata": {
        "id": "EMHlW17_ldxv"
      },
      "execution_count": null,
      "outputs": []
    },
    {
      "cell_type": "markdown",
      "source": [
        "Text Analysis on the reviews"
      ],
      "metadata": {
        "id": "qQTOsTg4ljYS"
      }
    },
    {
      "cell_type": "code",
      "source": [
        "# Recode 1,2, and 3 stars as 0 (negative review)\n",
        "# Recode 4 and 5 stars as 1 (positive review)\n",
        "\n",
        "reviews['sentiment']=reviews['stars'].replace({1:0,2:0,3:0,4:1,5:1})\n",
        "reviews['sentiment'] = reviews['sentiment'].astype(int)\n",
        "\n",
        "# Since this dataset is so large, we will work with a random sample of 100,000 reviews\n",
        "reviews_subset = reviews.sample(100000).reset_index(drop=True)\n",
        "\n",
        "# Subset of the columns of interest\n",
        "df = reviews_subset[['text','sentiment']]\n",
        "df.head()"
      ],
      "metadata": {
        "id": "_7q9fLZYlnpl"
      },
      "execution_count": null,
      "outputs": []
    },
    {
      "cell_type": "code",
      "source": [
        "# Convert strings to lowercase\n",
        "df['pre_process'] = df['text'].apply(lambda x:' '.join(x.lower() for x in str(x).split()))\n",
        "\n",
        "# Convert contractions into separate words (won't = will not)\n",
        "def contractions(s):\n",
        "     s = re.sub(r\"won’t\", \"will not\",s)\n",
        "     s = re.sub(r\"would’t\", \"would not\",s)\n",
        "     s = re.sub(r\"could’t\", \"could not\",s)\n",
        "     s = re.sub(r\"\\’d\",  \" would\",s)\n",
        "     s = re.sub(r\"can\\’t\", \"can not\",s)\n",
        "     s = re.sub(r\"n\\’t\", \" not\", s)\n",
        "     s= re.sub(r\"\\’re\", \" are\", s)\n",
        "     s = re.sub(r\"\\’s\", \" is\", s)\n",
        "     s = re.sub(r\"\\’ll\", \" will\", s)\n",
        "     s = re.sub(r\"\\’t\", \" not\", s)\n",
        "     s = re.sub(r\"\\’ve\", \" have\", s)\n",
        "     s = re.sub(r\"\\’m\", \" am\", s)\n",
        "     return s\n",
        "df['pre_process']=df['pre_process'].apply(lambda x:contractions(x))\n",
        "\n",
        "# Remove non-alpha characters\n",
        "df['pre_process']=df['pre_process'].apply(lambda x: ' '.join([re.sub('[^A-Za-z]+','', x) for x in nltk.word_tokenize(x)]))\n",
        "\n",
        "# Remove extra spaces between words\n",
        "df['pre_process']=df['pre_process'].apply(lambda x: re.sub(' +', ' ', x))\n",
        "\n",
        "# Remove stop words\n",
        "stop = stopwords.words(\"english\")\n",
        "df['pre_process']=df['pre_process'].apply(lambda x: \" \".join([x for x in x.split() if x not in stop]))\n",
        "\n",
        "# Lemmatization\n",
        "lemmatizer = WordNetLemmatizer()\n",
        "df['pre_process']=df['pre_process'].apply(lambda x: \" \".join([lemmatizer.lemmatize(w) for w in nltk.word_tokenize(x)]))"
      ],
      "metadata": {
        "id": "uzFExN7Bly4T"
      },
      "execution_count": null,
      "outputs": []
    },
    {
      "cell_type": "code",
      "source": [
        "X = df['pre_process']\n",
        "y = df['sentiment']\n",
        "\n",
        "X_train, X_test, y_train, y_test = train_test_split(X, y, test_size=0.2, stratify=y, random_state=42)\n",
        "print(\"Train: \",X_train.shape,y_train.shape,\"Test: \",(X_test.shape,y_test.shape))"
      ],
      "metadata": {
        "id": "b0jrJHf8mIZ1"
      },
      "execution_count": null,
      "outputs": []
    },
    {
      "cell_type": "code",
      "source": [
        "vectorizer= TfidfVectorizer()\n",
        "tf_x_train = vectorizer.fit_transform(X_train)\n",
        "tf_x_test = vectorizer.transform(X_test)"
      ],
      "metadata": {
        "id": "S5bUKj_BmNSl"
      },
      "execution_count": null,
      "outputs": []
    },
    {
      "cell_type": "code",
      "source": [
        "clf = LinearSVC(random_state=0)\n",
        "clf.fit(tf_x_train,y_train)\n",
        "y_test_pred=clf.predict(tf_x_test)\n",
        "report=classification_report(y_test, y_test_pred,output_dict=True)"
      ],
      "metadata": {
        "id": "jvMd-99MmNaq"
      },
      "execution_count": null,
      "outputs": []
    },
    {
      "cell_type": "code",
      "source": [
        "pd.DataFrame(report)"
      ],
      "metadata": {
        "id": "2IlwxCiUmSlp"
      },
      "execution_count": null,
      "outputs": []
    },
    {
      "cell_type": "markdown",
      "source": [
        "> Evaluating model"
      ],
      "metadata": {
        "id": "qM6V1547mVtL"
      }
    },
    {
      "cell_type": "markdown",
      "source": [
        "- Positive Review"
      ],
      "metadata": {
        "id": "RsrBcc-XmgJH"
      }
    },
    {
      "cell_type": "code",
      "source": [
        "positive_review = df['pre_process'][43]\n",
        "positive_review = [positive_review]\n",
        "\n",
        "pos_review_transformed = vectorizer.transform(positive_review)\n",
        "pos_review_pred = clf.predict(pos_review_transformed)\n",
        "\n",
        "print(pos_review_pred)"
      ],
      "metadata": {
        "id": "h3Hw0YXKmXsO"
      },
      "execution_count": null,
      "outputs": []
    },
    {
      "cell_type": "markdown",
      "source": [
        "![image.png](data:image/png;base64,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)"
      ],
      "metadata": {
        "id": "sHk0Q0YfILM9"
      }
    },
    {
      "cell_type": "markdown",
      "source": [
        "- Negative Review"
      ],
      "metadata": {
        "id": "7i9uRpMnmd_y"
      }
    },
    {
      "cell_type": "code",
      "source": [
        "negative_review = df['pre_process'][65]\n",
        "negative_review = [negative_review]\n",
        "\n",
        "neg_review_transformed = vectorizer.transform(negative_review)\n",
        "neg_review_pred = clf.predict(neg_review_transformed)\n",
        "\n",
        "print(neg_review_pred)"
      ],
      "metadata": {
        "id": "yoanTZ77mdlq"
      },
      "execution_count": null,
      "outputs": []
    },
    {
      "cell_type": "markdown",
      "source": [
        "> Custom Reviews"
      ],
      "metadata": {
        "id": "udKUSFAuoU-S"
      }
    },
    {
      "cell_type": "code",
      "source": [
        "cus_pos_review = 'Blown away by almost every dish. The freshness of the herbs and vegetables, the tenderness of the duck and steak, the complex spices and of the shan tofu and salads! Not your typical southeast Asian restaurant. Definitely a little bit of a twist, but it works well. We tried all the main entrees and a few appetizers, but the standouts were the shan tofu, ribeye done medium rare (you must dip it in the sauce), crispy trout, and beef stir fry. Salads are bright and refreshing. The lighting and decor is sleek and beautiful, service kind and helpful. A bit of a splurge depending on how you order, but what an experience!'\n",
        "cus_neg_review = \"I have dined in a multitude of culinary institutes and Michelin star restaurants not only in the US but abroad as well. I was never treated the way I was treated here with the 2 disgusting hostesses on the night of June 17 2022. Who also decided to harass us and say 'well are you guys going to order anything?!' as we were waiting for our food patiently for 1 AND A HALF HOURS. I did not a receive an apology for her attitude or assumptions nor an apology for the constant glares I was receiving. Very classless and disgusting. Despite the food being good, I will never come back nor recommend this place to friends. I felt very uncomfortable, harassed and UNWANTED like I did not belong there. I did not want to eat anymore. Please re evaluate your hostesses as they're ruining the authentic cultural experience that the owners are trying to portray.\"\n",
        "cus_neu_review = \"Great cocktails great vibe, beautiful patio. Very average food for a price. Ok service not super attending. Not family friendly or at least our server wasn't accommodating our son in a best way. We won't be back, but check out on your own\""
      ],
      "metadata": {
        "id": "3SZS9iPQoado"
      },
      "execution_count": null,
      "outputs": []
    },
    {
      "cell_type": "code",
      "source": [
        "cus_pos_review = [cus_pos_review]\n",
        "\n",
        "cus_pos_review_transformed = vectorizer.transform(cus_pos_review)\n",
        "cus_pos_review_pred = clf.predict(cus_pos_review_transformed)\n",
        "\n",
        "print(cus_pos_review_pred)"
      ],
      "metadata": {
        "id": "kQg9KkyEodOE"
      },
      "execution_count": null,
      "outputs": []
    },
    {
      "cell_type": "code",
      "source": [
        "cus_neg_review = [cus_neg_review]\n",
        "\n",
        "cus_neg_review_transformed = vectorizer.transform(cus_neg_review)\n",
        "cus_neg_review_pred = clf.predict(cus_neg_review_transformed)\n",
        "\n",
        "print(cus_neg_review_pred)"
      ],
      "metadata": {
        "id": "NjGzizSyojCI"
      },
      "execution_count": null,
      "outputs": []
    },
    {
      "cell_type": "code",
      "source": [
        "cus_neu_review = [cus_neu_review]\n",
        "\n",
        "cus_neu_review_transformed = vectorizer.transform(cus_neu_review)\n",
        "cus_neu_review_pred = clf.predict(cus_neu_review_transformed)\n",
        "\n",
        "print(cus_neu_review_pred)"
      ],
      "metadata": {
        "id": "TfmcBUXuokC2"
      },
      "execution_count": null,
      "outputs": []
    },
    {
      "cell_type": "markdown",
      "source": [
        "> Results:\n",
        "\n",
        "- Our model has a prediction accuracy of 92%\n",
        "- The model is slightly better at predicting postive reviews (93%) as opposed to negative reivews (89%)\n",
        "- The model was able to accurately predict the sentiment for 2 random reviews chosen from the data (1 positive and 1 negative)\n",
        "- The model was able to accurately predict the sentiment for 2 custom reviews\n",
        "- NB: When a neutral review was put through the model it predicts it as positive.\n",
        "\n",
        "It is to be expected that the model will get confused with neutral (3 star) reviews. It may be more appropriate to change this to multi-class classification where we regroup the star ratings to have positive, negative, AND neutral.\n"
      ],
      "metadata": {
        "id": "Szo4HIX8opwt"
      }
    },
    {
      "cell_type": "code",
      "source": [],
      "metadata": {
        "id": "Ha6RmSPxopfS"
      },
      "execution_count": null,
      "outputs": []
    }
  ],
  "metadata": {
    "colab": {
      "provenance": []
    },
    "kernelspec": {
      "display_name": "Python 3",
      "name": "python3"
    },
    "language_info": {
      "name": "python"
    }
  },
  "nbformat": 4,
  "nbformat_minor": 0
}